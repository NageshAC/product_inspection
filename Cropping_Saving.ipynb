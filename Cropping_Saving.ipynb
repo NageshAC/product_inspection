{
 "cells": [
  {
   "cell_type": "code",
   "execution_count": 22,
   "metadata": {},
   "outputs": [
    {
     "name": "stdout",
     "output_type": "stream",
     "text": [
      "C:\\Users\\Gaurav\\OneDrive\\Desktop\\FAU\\Semester 4\\BACS\\all_in_one_v14_Studenten\n"
     ]
    }
   ],
   "source": [
    "from pathlib import Path\n",
    "import glob\n",
    "import pandas as pd\n",
    "import xml.etree.ElementTree as ET\n",
    "from PIL import Image\n",
    "import os\n",
    "\n",
    "data_folder = Path(\"C:/Users/Gaurav/OneDrive/Desktop/FAU/Semester 4/BACS/all_in_one_v14_Studenten\")\n",
    "print(data_folder)"
   ]
  },
  {
   "cell_type": "markdown",
   "metadata": {},
   "source": [
    "## To parse all the XML files"
   ]
  },
  {
   "cell_type": "code",
   "execution_count": 59,
   "metadata": {
    "collapsed": true
   },
   "outputs": [
    {
     "name": "stdout",
     "output_type": "stream",
     "text": [
      "                         filename  width  height                class  xmin  \\\n",
      "0     CamBack_20211006_123113.jpg   1936    1216             Schraube   693   \n",
      "1     CamBack_20211006_123113.jpg   1936    1216             Schraube  1223   \n",
      "2     CamBack_20211006_123113.jpg   1936    1216             Schraube   709   \n",
      "3     CamBack_20211006_123113.jpg   1936    1216             Schraube  1205   \n",
      "4     CamBack_20211006_123113.jpg   1936    1216  Schraube_gespiegelt   708   \n",
      "...                           ...    ...     ...                  ...   ...   \n",
      "9294   WebcamFront_20220314_9.jpg   1920    1080     Powerstecker_off  1620   \n",
      "9295   WebcamFront_20220314_9.jpg   1920    1080              LED_HDD   344   \n",
      "9296   WebcamFront_20220314_9.jpg   1920    1080             CamFront   157   \n",
      "9297   WebcamFront_20220314_9.jpg   1920    1080    LOGO_Kontron_font  1570   \n",
      "9298   WebcamFront_20220314_9.jpg   1920    1080    LOGO_Kontron_icon  1757   \n",
      "\n",
      "      ymin  xmax  ymax  \n",
      "0      466   726   499  \n",
      "1      467  1258   500  \n",
      "2      642   747   679  \n",
      "3      646  1238   680  \n",
      "4      693   749   745  \n",
      "...    ...   ...   ...  \n",
      "9294   484  1750   560  \n",
      "9295   461   413   547  \n",
      "9296   214  1920   753  \n",
      "9297   314  1757   379  \n",
      "9298   312  1817   381  \n",
      "\n",
      "[9299 rows x 8 columns]\n"
     ]
    }
   ],
   "source": [
    "import os\n",
    "from pathlib import Path\n",
    "import glob\n",
    "import pandas as pd\n",
    "import xml.etree.ElementTree as ET\n",
    "\n",
    "data_folder = Path(\"C:/Users/Gaurav/OneDrive/Desktop/FAU/Semester 4/BACS/all_in_one_v14_Studenten\")\n",
    "def pascalvoc_to_csv(path):\n",
    "    xml_list = []\n",
    "\n",
    "    # print(\"amount of XML-files:\", len(glob.glob(path + '/*.xml')))\n",
    "\n",
    "    for xml_file in os.listdir(path):\n",
    "        if not xml_file.endswith('.xml'):continue\n",
    "        fullname = os.path.join(path,xml_file)\n",
    "        tree = ET.parse(fullname)\n",
    "        root = tree.getroot()\n",
    "        for member in root.findall('object'):\n",
    "            bbx = member.find('bndbox')\n",
    "            xmin = int(bbx.find('xmin').text)\n",
    "            ymin = int(bbx.find('ymin').text)\n",
    "            xmax = int(bbx.find('xmax').text)\n",
    "            ymax = int(bbx.find('ymax').text)\n",
    "            label = member.find('name').text\n",
    "            value = (root.find('filename').text,\n",
    "                     int(root.find('size')[0].text),\n",
    "                     int(root.find('size')[1].text),\n",
    "                     label,\n",
    "                     xmin,\n",
    "                     ymin,\n",
    "                     xmax,\n",
    "                     ymax\n",
    "                     )\n",
    "\n",
    "            xml_list.append(value)\n",
    "    column_name = ['filename', 'width', 'height',\n",
    "                   'class', 'xmin', 'ymin', 'xmax', 'ymax']\n",
    "    xml_df = pd.DataFrame(xml_list, columns=column_name)\n",
    "    print(xml_df)\n",
    "    xml_df.to_csv(\"imagestest.csv\")\n",
    "\n",
    "if __name__ == \"__main__\":\n",
    "    pascalvoc_to_csv(data_folder)"
   ]
  },
  {
   "cell_type": "markdown",
   "metadata": {},
   "source": [
    "## To create the folders"
   ]
  },
  {
   "cell_type": "code",
   "execution_count": null,
   "metadata": {},
   "outputs": [],
   "source": [
    "\n",
    "currentPath = Path(\"C:/Users/Gaurav/OneDrive/Desktop/FAU/Semester 4/BACS/Images\")\n",
    "\n",
    "folders = list(test[\"filename\"].unique())\n",
    "for i in folders:\n",
    "    path = os.path.join(currentPath, i)\n",
    "    os.makedirs(path, exist_ok=True)"
   ]
  },
  {
   "cell_type": "markdown",
   "metadata": {},
   "source": [
    "## To crop the images & save in the folders"
   ]
  },
  {
   "cell_type": "code",
   "execution_count": 60,
   "metadata": {},
   "outputs": [],
   "source": [
    "row = 0\n",
    "col = 0\n",
    "for file in test.loc[:,\"filename\"]:\n",
    "    im = Image.open(f\"C:/Users/Gaurav/OneDrive/Desktop/FAU/Semester 4/BACS/all_in_one_v14_Studenten/{file}\")\n",
    "    if col>0 and (test.loc[col, \"class\"] != test.loc[col-1, \"class\"]):\n",
    "        row = 0\n",
    "    if test.loc[col, \"class\"] == \"Schraube_gespiegelt\":\n",
    "        pass\n",
    "    else:\n",
    "        crop_frame = im.crop((test.loc[col, \"xmin\"], test.loc[col, \"ymin\"], test.loc[col, \"xmax\"], test.loc[col, \"ymax\"]))\n",
    "        crop_frame.save(f\"C:/Users/Gaurav/OneDrive/Desktop/FAU/Semester 4/BACS/Images/{test.loc[col, 'filename']}/{test.loc[col,'filename'].replace('.jpg', '')}_{test.loc[col,'class']}_{row}.jpg\", \"JPEG\")\n",
    "#         print(file)\n",
    "    col += 1\n",
    "    row += 1\n",
    "#     crop_frame.show()\n"
   ]
  },
  {
   "cell_type": "markdown",
   "metadata": {},
   "source": [
    "# END OF THE FILE. BELOW IS TRASH CODE"
   ]
  },
  {
   "cell_type": "markdown",
   "metadata": {},
   "source": [
    "## To create the folders"
   ]
  },
  {
   "cell_type": "code",
   "execution_count": 23,
   "metadata": {},
   "outputs": [],
   "source": [
    "\n",
    "currentPath = Path(\"C:/Users/Gaurav/OneDrive/Desktop/FAU/Semester 4/BACS/Images\")\n",
    "\n",
    "folders = list(test[\"filename\"].unique())\n",
    "for i in folders:\n",
    "    path = os.path.join(currentPath, i)\n",
    "    os.makedirs(path, exist_ok=True)\n",
    "\n",
    " \n",
    "\n",
    " \n",
    "\n",
    "# with open(outputFile, 'w', encoding=\"utf-8\") as file:\n",
    "# file.write(r.text)"
   ]
  },
  {
   "cell_type": "markdown",
   "metadata": {},
   "source": [
    "## To import images"
   ]
  },
  {
   "cell_type": "code",
   "execution_count": null,
   "metadata": {},
   "outputs": [],
   "source": [
    "import os\n",
    "from pathlib import Path\n",
    "from PIL import Image\n",
    "import glob\n",
    "import cv2\n",
    "\n",
    "data_folder = Path(\"C:/Users/Gaurav/OneDrive/Desktop/FAU/Semester 4/BACS/all_in_one_v14_Studenten\")\n",
    "\n",
    "def load_images_from_folder(folder):\n",
    "    images = []\n",
    "    for filename in os.listdir(folder):\n",
    "        img = cv2.imread(os.path.join(folder,filename))\n",
    "        if img is not None:\n",
    "            images.append(img)\n",
    "        return images\n",
    "    \n",
    "if __name__ == \"__main__\":\n",
    "    load_images_from_folder(data_folder)"
   ]
  },
  {
   "cell_type": "markdown",
   "metadata": {},
   "source": [
    "## Images names in a list"
   ]
  },
  {
   "cell_type": "code",
   "execution_count": null,
   "metadata": {},
   "outputs": [],
   "source": [
    "import glob, os\n",
    "os.chdir(\"C:/Users/Gaurav/OneDrive/Desktop/FAU/Semester 4/BACS/all_in_one_v14_Studenten\")\n",
    "def image_names_list():\n",
    "    images_names = []\n",
    "    for file in glob.glob(\"*.jpg\"):\n",
    "        images_names.append(file)\n",
    "    print(images_names)\n",
    "    \n",
    "if __name__ == \"__main__\":\n",
    "    image_names_list()"
   ]
  }
 ],
 "metadata": {
  "kernelspec": {
   "display_name": "Python 3",
   "language": "python",
   "name": "python3"
  },
  "language_info": {
   "codemirror_mode": {
    "name": "ipython",
    "version": 3
   },
   "file_extension": ".py",
   "mimetype": "text/x-python",
   "name": "python",
   "nbconvert_exporter": "python",
   "pygments_lexer": "ipython3",
   "version": "3.8.3"
  },
  "varInspector": {
   "cols": {
    "lenName": 16,
    "lenType": 16,
    "lenVar": 40
   },
   "kernels_config": {
    "python": {
     "delete_cmd_postfix": "",
     "delete_cmd_prefix": "del ",
     "library": "var_list.py",
     "varRefreshCmd": "print(var_dic_list())"
    },
    "r": {
     "delete_cmd_postfix": ") ",
     "delete_cmd_prefix": "rm(",
     "library": "var_list.r",
     "varRefreshCmd": "cat(var_dic_list()) "
    }
   },
   "types_to_exclude": [
    "module",
    "function",
    "builtin_function_or_method",
    "instance",
    "_Feature"
   ],
   "window_display": false
  }
 },
 "nbformat": 4,
 "nbformat_minor": 4
}
